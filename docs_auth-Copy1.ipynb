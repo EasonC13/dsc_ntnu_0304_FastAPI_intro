{
 "cells": [
  {
   "cell_type": "code",
   "execution_count": 1,
   "metadata": {},
   "outputs": [],
   "source": [
    "import secrets\n",
    "\n",
    "from fastapi import Depends, FastAPI, HTTPException, status\n",
    "from fastapi.security import HTTPBasic, HTTPBasicCredentials\n",
    "\n",
    "app = FastAPI()\n",
    "\n",
    "security = HTTPBasic()\n",
    "\n",
    "\n",
    "def get_current_username(credentials: HTTPBasicCredentials = Depends(security)):\n",
    "    correct_username = secrets.compare_digest(credentials.username, \"stanleyjobson\")\n",
    "    correct_password = secrets.compare_digest(credentials.password, \"swordfish\")\n",
    "    if not (correct_username and correct_password):\n",
    "        raise HTTPException(\n",
    "            status_code=status.HTTP_401_UNAUTHORIZED,\n",
    "            detail=\"Incorrect email or password\",\n",
    "            headers={\"WWW-Authenticate\": \"Basic\"},\n",
    "        )\n",
    "    return credentials.username\n",
    "\n",
    "\n",
    "@app.get(\"/users/me\")\n",
    "def read_current_user(username: str = Depends(get_current_username)):\n",
    "    return {\"username\": username}\n",
    "\n",
    "@app.get(\"/users/he\")\n",
    "def read_current_user(username: str = Depends(get_current_username)):\n",
    "    return {\"username\": username}\n",
    "\n",
    "@app.get(\"/users/she\")\n",
    "def read_current_user(username: str = Depends(get_current_username)):\n",
    "    return {\"username\": username}"
   ]
  },
  {
   "cell_type": "code",
   "execution_count": null,
   "metadata": {},
   "outputs": [
    {
     "name": "stderr",
     "output_type": "stream",
     "text": [
      "INFO:     Started server process [14276]\n",
      "INFO:     Waiting for application startup.\n",
      "INFO:     Application startup complete.\n",
      "INFO:     Uvicorn running on http://0.0.0.0:8087 (Press CTRL+C to quit)\n"
     ]
    },
    {
     "name": "stdout",
     "output_type": "stream",
     "text": [
      "INFO:     127.0.0.1:56564 - \"GET /docs HTTP/1.1\" 200 OK\n",
      "INFO:     127.0.0.1:56564 - \"GET /openapi.json HTTP/1.1\" 200 OK\n",
      "INFO:     127.0.0.1:56565 - \"GET /users/he HTTP/1.1\" 401 Unauthorized\n"
     ]
    }
   ],
   "source": [
    "if __name__ == \"__main__\":\n",
    "    import nest_asyncio\n",
    "    nest_asyncio.apply()\n",
    "    import uvicorn\n",
    "    uvicorn.run(app, host=\"0.0.0.0\", port=8087)"
   ]
  },
  {
   "cell_type": "code",
   "execution_count": null,
   "metadata": {},
   "outputs": [],
   "source": []
  },
  {
   "cell_type": "code",
   "execution_count": null,
   "metadata": {},
   "outputs": [],
   "source": []
  },
  {
   "cell_type": "code",
   "execution_count": null,
   "metadata": {},
   "outputs": [],
   "source": []
  }
 ],
 "metadata": {
  "kernelspec": {
   "display_name": "Python 3",
   "language": "python",
   "name": "python3"
  },
  "language_info": {
   "codemirror_mode": {
    "name": "ipython",
    "version": 3
   },
   "file_extension": ".py",
   "mimetype": "text/x-python",
   "name": "python",
   "nbconvert_exporter": "python",
   "pygments_lexer": "ipython3",
   "version": "3.7.4"
  },
  "varInspector": {
   "cols": {
    "lenName": 16,
    "lenType": 16,
    "lenVar": 40
   },
   "kernels_config": {
    "python": {
     "delete_cmd_postfix": "",
     "delete_cmd_prefix": "del ",
     "library": "var_list.py",
     "varRefreshCmd": "print(var_dic_list())"
    },
    "r": {
     "delete_cmd_postfix": ") ",
     "delete_cmd_prefix": "rm(",
     "library": "var_list.r",
     "varRefreshCmd": "cat(var_dic_list()) "
    }
   },
   "types_to_exclude": [
    "module",
    "function",
    "builtin_function_or_method",
    "instance",
    "_Feature"
   ],
   "window_display": false
  }
 },
 "nbformat": 4,
 "nbformat_minor": 2
}
