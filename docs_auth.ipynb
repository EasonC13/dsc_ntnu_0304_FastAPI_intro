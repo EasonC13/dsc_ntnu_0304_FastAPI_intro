{
 "cells": [
  {
   "cell_type": "code",
   "execution_count": 1,
   "metadata": {},
   "outputs": [],
   "source": [
    "from fastapi import FastAPI\n",
    "\n",
    "from fastapi.openapi.docs import get_swagger_ui_html\n",
    "from fastapi.openapi.utils import get_openapi\n",
    "\n",
    "import secrets\n",
    "\n",
    "from fastapi import Depends, FastAPI, HTTPException, status\n",
    "from fastapi.security import HTTPBasic, HTTPBasicCredentials\n",
    "\n",
    "app = FastAPI(docs_url=None, redoc_url=None, openapi_url = None)\n",
    "\n",
    "security = HTTPBasic()\n",
    "\n",
    "\n",
    "def get_current_username(credentials: HTTPBasicCredentials = Depends(security)):\n",
    "    correct_username = secrets.compare_digest(credentials.username, \"user\")\n",
    "    correct_password = secrets.compare_digest(credentials.password, \"password\")\n",
    "    if not (correct_username and correct_password):\n",
    "        raise HTTPException(\n",
    "            status_code=status.HTTP_401_UNAUTHORIZED,\n",
    "            detail=\"Incorrect email or password\",\n",
    "            headers={\"WWW-Authenticate\": \"Basic\"},\n",
    "        )\n",
    "    return credentials.username\n",
    "\n",
    "\n",
    "@app.get(\"/docs\")\n",
    "async def get_documentation(username: str = Depends(get_current_username)):\n",
    "    return get_swagger_ui_html(openapi_url=\"/openapi.json\", title=\"docs\")\n",
    "\n",
    "\n",
    "@app.get(\"/openapi.json\")\n",
    "async def openapi(username: str = Depends(get_current_username)):\n",
    "    return get_openapi(title = \"FastAPI\", version=\"0.1.0\", routes=app.routes)\n"
   ]
  },
  {
   "cell_type": "code",
   "execution_count": 2,
   "metadata": {},
   "outputs": [
    {
     "name": "stderr",
     "output_type": "stream",
     "text": [
      "INFO:     Started server process [5598]\n",
      "INFO:     Waiting for application startup.\n",
      "INFO:     Application startup complete.\n",
      "INFO:     Uvicorn running on http://0.0.0.0:8080 (Press CTRL+C to quit)\n"
     ]
    },
    {
     "name": "stdout",
     "output_type": "stream",
     "text": [
      "INFO:     127.0.0.1:60627 - \"GET /openapi.json HTTP/1.1\" 200 OK\n",
      "INFO:     127.0.0.1:60629 - \"GET /docs HTTP/1.1\" 200 OK\n",
      "INFO:     127.0.0.1:60629 - \"GET /openapi.json HTTP/1.1\" 200 OK\n",
      "INFO:     127.0.0.1:60632 - \"GET /openapi.json HTTP/1.1\" 401 Unauthorized\n",
      "INFO:     127.0.0.1:60632 - \"GET /openapi.json HTTP/1.1\" 401 Unauthorized\n",
      "INFO:     127.0.0.1:60632 - \"GET /favicon.ico HTTP/1.1\" 404 Not Found\n",
      "INFO:     127.0.0.1:60632 - \"GET /docs HTTP/1.1\" 401 Unauthorized\n",
      "INFO:     127.0.0.1:60635 - \"GET /docs HTTP/1.1\" 200 OK\n",
      "INFO:     127.0.0.1:60635 - \"GET /openapi.json HTTP/1.1\" 200 OK\n",
      "INFO:     127.0.0.1:60635 - \"GET /openapi.json HTTP/1.1\" 200 OK\n",
      "INFO:     127.0.0.1:60643 - \"GET /hello HTTP/1.1\" 200 OK\n"
     ]
    },
    {
     "name": "stderr",
     "output_type": "stream",
     "text": [
      "INFO:     Shutting down\n",
      "INFO:     Waiting for application shutdown.\n",
      "INFO:     Application shutdown complete.\n",
      "INFO:     Finished server process [5598]\n"
     ]
    }
   ],
   "source": [
    "if __name__ == \"__main__\":\n",
    "    import nest_asyncio\n",
    "    nest_asyncio.apply()\n",
    "    import uvicorn\n",
    "    uvicorn.run(app, host=\"0.0.0.0\", port=8080)"
   ]
  },
  {
   "cell_type": "code",
   "execution_count": 3,
   "metadata": {},
   "outputs": [],
   "source": [
    "app.openapi_schema"
   ]
  },
  {
   "cell_type": "code",
   "execution_count": null,
   "metadata": {},
   "outputs": [],
   "source": []
  },
  {
   "cell_type": "code",
   "execution_count": null,
   "metadata": {},
   "outputs": [],
   "source": []
  },
  {
   "cell_type": "code",
   "execution_count": null,
   "metadata": {},
   "outputs": [],
   "source": []
  }
 ],
 "metadata": {
  "kernelspec": {
   "display_name": "Python 3",
   "language": "python",
   "name": "python3"
  },
  "language_info": {
   "codemirror_mode": {
    "name": "ipython",
    "version": 3
   },
   "file_extension": ".py",
   "mimetype": "text/x-python",
   "name": "python",
   "nbconvert_exporter": "python",
   "pygments_lexer": "ipython3",
   "version": "3.7.4"
  },
  "varInspector": {
   "cols": {
    "lenName": 16,
    "lenType": 16,
    "lenVar": 40
   },
   "kernels_config": {
    "python": {
     "delete_cmd_postfix": "",
     "delete_cmd_prefix": "del ",
     "library": "var_list.py",
     "varRefreshCmd": "print(var_dic_list())"
    },
    "r": {
     "delete_cmd_postfix": ") ",
     "delete_cmd_prefix": "rm(",
     "library": "var_list.r",
     "varRefreshCmd": "cat(var_dic_list()) "
    }
   },
   "types_to_exclude": [
    "module",
    "function",
    "builtin_function_or_method",
    "instance",
    "_Feature"
   ],
   "window_display": false
  }
 },
 "nbformat": 4,
 "nbformat_minor": 2
}
