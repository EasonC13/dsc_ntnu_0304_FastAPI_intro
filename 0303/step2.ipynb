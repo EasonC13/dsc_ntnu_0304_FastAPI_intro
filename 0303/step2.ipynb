{
 "cells": [
  {
   "cell_type": "code",
   "execution_count": 1,
   "metadata": {},
   "outputs": [],
   "source": [
    "from fastapi import FastAPI\n",
    "\n",
    "app = FastAPI()\n",
    "\n",
    "@app.get(\"/greeting\")\n",
    "def hello_world():\n",
    "    return \"Hello World\"\n",
    "\n",
    "@app.get(\"/greet-you\")\n",
    "def hello_world(name):\n",
    "    print(f\"Recieve name: {name}\")\n",
    "    return f\"Hello, {name}\"\n",
    "\n",
    "@app.get(\"/double-number\")\n",
    "def double_number(num: int):\n",
    "    print(f\"Recieve number: {num}\")\n",
    "    return num * 2"
   ]
  },
  {
   "cell_type": "code",
   "execution_count": 2,
   "metadata": {},
   "outputs": [
    {
     "name": "stderr",
     "output_type": "stream",
     "text": [
      "INFO:     Started server process [65573]\n",
      "INFO:     Waiting for application startup.\n",
      "INFO:     Application startup complete.\n",
      "INFO:     Uvicorn running on http://0.0.0.0:8080 (Press CTRL+C to quit)\n"
     ]
    },
    {
     "name": "stdout",
     "output_type": "stream",
     "text": [
      "INFO:     127.0.0.1:49715 - \"GET /docs HTTP/1.1\" 200 OK\n",
      "INFO:     127.0.0.1:49716 - \"GET /docs HTTP/1.1\" 200 OK\n",
      "INFO:     127.0.0.1:49716 - \"GET /openapi.json HTTP/1.1\" 200 OK\n",
      "Recieve number: 3\n",
      "INFO:     127.0.0.1:49718 - \"GET /double-number?num=3 HTTP/1.1\" 200 OK\n",
      "Recieve number: 3\n",
      "INFO:     127.0.0.1:49723 - \"GET /double-number?num=3 HTTP/1.1\" 200 OK\n",
      "Recieve number: 3\n",
      "INFO:     127.0.0.1:49723 - \"GET /double-number?num=3 HTTP/1.1\" 200 OK\n",
      "INFO:     127.0.0.1:49723 - \"GET /double-number?num=eason HTTP/1.1\" 422 Unprocessable Entity\n",
      "INFO:     127.0.0.1:49725 - \"GET /double-number?num=eason HTTP/1.1\" 422 Unprocessable Entity\n"
     ]
    },
    {
     "name": "stderr",
     "output_type": "stream",
     "text": [
      "INFO:     Shutting down\n",
      "INFO:     Waiting for application shutdown.\n",
      "INFO:     Application shutdown complete.\n",
      "INFO:     Finished server process [65573]\n"
     ]
    }
   ],
   "source": [
    "if __name__ == \"__main__\":\n",
    "    import nest_asyncio\n",
    "    nest_asyncio.apply()\n",
    "    import uvicorn\n",
    "    uvicorn.run(app, host=\"0.0.0.0\", port=8080)"
   ]
  },
  {
   "cell_type": "code",
   "execution_count": null,
   "metadata": {},
   "outputs": [],
   "source": []
  }
 ],
 "metadata": {
  "kernelspec": {
   "display_name": "Python 3",
   "language": "python",
   "name": "python3"
  },
  "language_info": {
   "codemirror_mode": {
    "name": "ipython",
    "version": 3
   },
   "file_extension": ".py",
   "mimetype": "text/x-python",
   "name": "python",
   "nbconvert_exporter": "python",
   "pygments_lexer": "ipython3",
   "version": "3.7.4"
  },
  "varInspector": {
   "cols": {
    "lenName": 16,
    "lenType": 16,
    "lenVar": 40
   },
   "kernels_config": {
    "python": {
     "delete_cmd_postfix": "",
     "delete_cmd_prefix": "del ",
     "library": "var_list.py",
     "varRefreshCmd": "print(var_dic_list())"
    },
    "r": {
     "delete_cmd_postfix": ") ",
     "delete_cmd_prefix": "rm(",
     "library": "var_list.r",
     "varRefreshCmd": "cat(var_dic_list()) "
    }
   },
   "types_to_exclude": [
    "module",
    "function",
    "builtin_function_or_method",
    "instance",
    "_Feature"
   ],
   "window_display": false
  }
 },
 "nbformat": 4,
 "nbformat_minor": 2
}
