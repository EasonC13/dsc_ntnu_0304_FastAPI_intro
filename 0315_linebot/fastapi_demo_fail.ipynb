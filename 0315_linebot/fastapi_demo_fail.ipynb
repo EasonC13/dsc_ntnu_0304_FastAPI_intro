{
 "cells": [
  {
   "cell_type": "code",
   "execution_count": 1,
   "metadata": {},
   "outputs": [
    {
     "name": "stderr",
     "output_type": "stream",
     "text": [
      "INFO:     Started server process [9099]\n",
      "INFO:     Waiting for application startup.\n",
      "INFO:     Application startup complete.\n",
      "INFO:     Uvicorn running on http://0.0.0.0:5000 (Press CTRL+C to quit)\n",
      "INFO:     Request body: {b'events': [{'type': 'message', 'replyToken': 'bcb1fe88eda2497c955d9ddba1bebd67', 'source': {'userId': 'U0e8f13374ec4f5044f5dbf37a813fad2', 'type': 'user'}, 'timestamp': 1615773487680, 'mode': 'active', 'message': {'type': 'text', 'id': '13718670662251', 'text': '>'}}], b'destination': 'U09ec89b0b8623c6561aed1c599ec724a'}\n"
     ]
    },
    {
     "name": "stdout",
     "output_type": "stream",
     "text": [
      "Dgq9Vx22zfQ2ZG3KtzcyXx1mFWr6Dtluh4+blK5J+8U=\n",
      "Traceback (most recent call last):\n",
      "  File \"<ipython-input-1-3cdfca6d40f8>\", line 47, in callback\n",
      "    handler.handle(body, signature)\n",
      "  File \"/Users/eason/opt/anaconda3/lib/python3.7/site-packages/linebot/webhook.py\", line 239, in handle\n",
      "    payload = self.parser.parse(body, signature, as_payload=True)\n",
      "  File \"/Users/eason/opt/anaconda3/lib/python3.7/site-packages/linebot/webhook.py\", line 143, in parse\n",
      "    'Invalid signature. signature=' + signature)\n",
      "linebot.exceptions.InvalidSignatureError: <InvalidSignatureError [Invalid signature. signature=Dgq9Vx22zfQ2ZG3KtzcyXx1mFWr6Dtluh4+blK5J+8U=]>\n",
      "\n",
      "INFO:     147.92.149.168:0 - \"POST / HTTP/1.1\" 200 OK\n"
     ]
    },
    {
     "name": "stderr",
     "output_type": "stream",
     "text": [
      "INFO:     Shutting down\n",
      "INFO:     Waiting for application shutdown.\n",
      "INFO:     Application shutdown complete.\n",
      "INFO:     Finished server process [9099]\n"
     ]
    }
   ],
   "source": [
    "# 載入需要的模組\n",
    "import os\n",
    "from fastapi import FastAPI\n",
    "from pydantic import BaseModel\n",
    "from typing import Optional\n",
    "\n",
    "import logging\n",
    "\n",
    "from linebot import LineBotApi, WebhookHandler\n",
    "from linebot.exceptions import InvalidSignatureError\n",
    "from linebot.models import MessageEvent, TextMessage, TextSendMessage\n",
    "\n",
    "app = FastAPI()\n",
    "logger = logging.getLogger(__name__)\n",
    "\n",
    "# LINE 聊天機器人的基本資料\n",
    "line_bot_api = LineBotApi('A4veVmZxKblHfPlxv+9TTCuoMvgYWJvV8TLvCKf+9thHRZCWLohZHPU8JvPaiuhX2MRRmK7ZW3CAZ7IWLpq2i5yALJNoLQq8talxMiJmn0UERNSc9BRpi6CNQLPuni2HERIuV9ylcmyMgNhGNV7smwdB04t89/1O/w1cDnyilFU=')\n",
    "parser = WebhookParser('0ba6ed18cdb42f23518beadb42a7b9b8')\n",
    "\n",
    "# 接收 LINE 的資訊\n",
    "\n",
    "from fastapi import FastAPI, Request\n",
    "from typing import Any, Dict, AnyStr, List, Union\n",
    "JSONObject = Dict[AnyStr, Any]\n",
    "JSONArray = List[Any]\n",
    "JSONStructure = Union[JSONArray, JSONObject]\n",
    "\n",
    "@app.post(\"/\")\n",
    "def callback(request: Request, arbitrary_json: JSONStructure = None):\n",
    "    signature = request.headers.get(\"X-Line-Signature\", \"\")\n",
    "    print(signature)\n",
    "\n",
    "    \"\"\"keys = arbitrary_json.keys()\n",
    "    for key in keys:\n",
    "        if type(key) == bytes:\n",
    "            arbitrary_json[key.decode()] = arbitrary_json[key]\n",
    "            del arbitrary_json[key]\"\"\"\n",
    "                \n",
    "    body = str(arbitrary_json)\n",
    "    LIST.append(body)\n",
    "    LIST.append(signature)\n",
    "    LIST.append(request)\n",
    "    logger.info(f\"Request body: {body}\")\n",
    "    \n",
    "\n",
    "    try:\n",
    "        handler.handle(body, signature)\n",
    "    except InvalidSignatureError:\n",
    "        import traceback\n",
    "        import sys\n",
    "        exc_type, exc_value, exc_tb = sys.exc_info()\n",
    "        result = \"\".join(traceback.format_exception(exc_type, exc_value, exc_tb))\n",
    "        print(result)\n",
    "        return \"QQQQQ\"\n",
    "\n",
    "    return 'OK'\n",
    "\n",
    "LIST = []\n",
    "@handler.add(MessageEvent, message=TextMessage)\n",
    "def echo(event):\n",
    "    \n",
    "    if event.source.user_id != \"Udeadbeefdeadbeefdeadbeefdeadbeef\":\n",
    "        LIST.append(event)\n",
    "        if \"DSC\" in event.message.text:\n",
    "            line_bot_api.reply_message(\n",
    "            event.reply_token,\n",
    "            TextSendMessage(text=f\"DSC NTNU 好棒棒\")\n",
    "        )\n",
    "        else:\n",
    "            line_bot_api.reply_message(\n",
    "                event.reply_token,\n",
    "                TextSendMessage(text=f\"收到你說{event.message.text}\")\n",
    "            )\n",
    "\n",
    "if __name__ == \"__main__\":\n",
    "    import nest_asyncio\n",
    "    nest_asyncio.apply()\n",
    "    import uvicorn\n",
    "    uvicorn.run(app, host=\"0.0.0.0\", port=5000)"
   ]
  },
  {
   "cell_type": "code",
   "execution_count": 2,
   "metadata": {},
   "outputs": [
    {
     "data": {
      "text/plain": [
       "'Dgq9Vx22zfQ2ZG3KtzcyXx1mFWr6Dtluh4+blK5J+8U='"
      ]
     },
     "execution_count": 2,
     "metadata": {},
     "output_type": "execute_result"
    }
   ],
   "source": [
    "LIST[1]"
   ]
  },
  {
   "cell_type": "code",
   "execution_count": 12,
   "metadata": {},
   "outputs": [
    {
     "data": {
      "text/plain": [
       "'{\"events\":[{\"type\":\"message\",\"replyToken\":\"bcb1fe88eda2497c955d9ddba1bebd67\",\"source\":{\"userId\":\"U0e8f13374ec4f5044f5dbf37a813fad2\",\"type\":\"user\"},\"timestamp\":1615773487680,\"mode\":\"active\",\"message\":{\"type\":\"text\",\"id\":\"13718670662251\",\"text\":\">\"}}],\"destination\":\"U09ec89b0b8623c6561aed1c599ec724a\"}'"
      ]
     },
     "execution_count": 12,
     "metadata": {},
     "output_type": "execute_result"
    }
   ],
   "source": [
    "(await LIST[2].body()).decode(\"utf-8\")"
   ]
  },
  {
   "cell_type": "code",
   "execution_count": 13,
   "metadata": {},
   "outputs": [
    {
     "data": {
      "text/plain": [
       "'Dgq9Vx22zfQ2ZG3KtzcyXx1mFWr6Dtluh4+blK5J+8U='"
      ]
     },
     "execution_count": 13,
     "metadata": {},
     "output_type": "execute_result"
    }
   ],
   "source": [
    "LIST[2].headers.get(\"X-Line-Signature\", \"\")"
   ]
  },
  {
   "cell_type": "code",
   "execution_count": null,
   "metadata": {},
   "outputs": [],
   "source": []
  }
 ],
 "metadata": {
  "kernelspec": {
   "display_name": "Python 3",
   "language": "python",
   "name": "python3"
  },
  "language_info": {
   "codemirror_mode": {
    "name": "ipython",
    "version": 3
   },
   "file_extension": ".py",
   "mimetype": "text/x-python",
   "name": "python",
   "nbconvert_exporter": "python",
   "pygments_lexer": "ipython3",
   "version": "3.7.4"
  },
  "varInspector": {
   "cols": {
    "lenName": 16,
    "lenType": 16,
    "lenVar": 40
   },
   "kernels_config": {
    "python": {
     "delete_cmd_postfix": "",
     "delete_cmd_prefix": "del ",
     "library": "var_list.py",
     "varRefreshCmd": "print(var_dic_list())"
    },
    "r": {
     "delete_cmd_postfix": ") ",
     "delete_cmd_prefix": "rm(",
     "library": "var_list.r",
     "varRefreshCmd": "cat(var_dic_list()) "
    }
   },
   "types_to_exclude": [
    "module",
    "function",
    "builtin_function_or_method",
    "instance",
    "_Feature"
   ],
   "window_display": false
  }
 },
 "nbformat": 4,
 "nbformat_minor": 2
}
