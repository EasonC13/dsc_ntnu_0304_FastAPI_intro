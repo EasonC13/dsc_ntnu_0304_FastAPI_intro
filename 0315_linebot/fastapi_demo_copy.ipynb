{
 "cells": [
  {
   "cell_type": "code",
   "execution_count": 41,
   "metadata": {},
   "outputs": [],
   "source": [
    "datas ={\"A\": \"ABC\",\n",
    "\"B\": \"BCD\",\n",
    "\"C\": \"CDE\"}"
   ]
  },
  {
   "cell_type": "code",
   "execution_count": 43,
   "metadata": {},
   "outputs": [
    {
     "name": "stdout",
     "output_type": "stream",
     "text": [
      "A\n",
      "B\n",
      "C\n"
     ]
    }
   ],
   "source": [
    "for key in datas:\n",
    "    print(key)"
   ]
  },
  {
   "cell_type": "code",
   "execution_count": 40,
   "metadata": {},
   "outputs": [
    {
     "name": "stdout",
     "output_type": "stream",
     "text": [
      "A\n",
      "B\n",
      "C\n"
     ]
    }
   ],
   "source": [
    "for key in datas.keys():\n",
    "    \n",
    "    print(key)"
   ]
  },
  {
   "cell_type": "code",
   "execution_count": 34,
   "metadata": {},
   "outputs": [],
   "source": []
  },
  {
   "cell_type": "code",
   "execution_count": null,
   "metadata": {},
   "outputs": [],
   "source": []
  },
  {
   "cell_type": "code",
   "execution_count": null,
   "metadata": {},
   "outputs": [],
   "source": []
  },
  {
   "cell_type": "code",
   "execution_count": null,
   "metadata": {},
   "outputs": [],
   "source": []
  },
  {
   "cell_type": "code",
   "execution_count": 5,
   "metadata": {},
   "outputs": [],
   "source": [
    "ABC = []"
   ]
  },
  {
   "cell_type": "code",
   "execution_count": 12,
   "metadata": {},
   "outputs": [],
   "source": [
    "ABC.append(\"ABCDEF\")"
   ]
  },
  {
   "cell_type": "code",
   "execution_count": 13,
   "metadata": {},
   "outputs": [
    {
     "data": {
      "text/plain": [
       "['ABCDEF', 'ABCDEF', 'ABCDEF']"
      ]
     },
     "execution_count": 13,
     "metadata": {},
     "output_type": "execute_result"
    }
   ],
   "source": [
    "ABC"
   ]
  },
  {
   "cell_type": "code",
   "execution_count": 14,
   "metadata": {},
   "outputs": [
    {
     "data": {
      "text/plain": [
       "'ABCDEF'"
      ]
     },
     "execution_count": 14,
     "metadata": {},
     "output_type": "execute_result"
    }
   ],
   "source": [
    "ABC[0]"
   ]
  },
  {
   "cell_type": "code",
   "execution_count": null,
   "metadata": {},
   "outputs": [],
   "source": []
  },
  {
   "cell_type": "code",
   "execution_count": null,
   "metadata": {},
   "outputs": [],
   "source": []
  },
  {
   "cell_type": "code",
   "execution_count": 24,
   "metadata": {},
   "outputs": [
    {
     "name": "stderr",
     "output_type": "stream",
     "text": [
      "INFO:     Started server process [38721]\n",
      "INFO:     Waiting for application startup.\n",
      "INFO:     Application startup complete.\n",
      "INFO:     Uvicorn running on http://0.0.0.0:8080 (Press CTRL+C to quit)\n"
     ]
    },
    {
     "name": "stdout",
     "output_type": "stream",
     "text": [
      "INFO:     147.92.149.166:0 - \"POST / HTTP/1.1\" 200 OK\n"
     ]
    },
    {
     "name": "stderr",
     "output_type": "stream",
     "text": [
      "INFO:     Shutting down\n",
      "INFO:     Waiting for application shutdown.\n",
      "INFO:     Application shutdown complete.\n",
      "INFO:     Finished server process [38721]\n"
     ]
    }
   ],
   "source": [
    "from fastapi import FastAPI, Request\n",
    "from linebot import WebhookParser\n",
    "from linebot.models import TextMessage\n",
    "from aiolinebot import AioLineBotApi\n",
    "\n",
    "from linebot import LineBotApi, WebhookHandler\n",
    "from linebot.exceptions import InvalidSignatureError\n",
    "from linebot.models import MessageEvent, TextMessage, TextSendMessage\n",
    "\n",
    "\n",
    "line_api = LineBotApi(channel_access_token=\"Pl8bduB2splJzoQeIpzzu7BTxnUZeL0nmpxPQVDDS+MzG0gXsY8OGQxPZIHDLUkMaQRBqJHFmBSiegj94Or5I77lL9bKo51n9EYT1D4LU5tRU/TTjYSKa9qXjIKvIYg7e+kZWgYZdBLW4UPkJaFdnQdB04t89/1O/w1cDnyilFU=\")\n",
    "parser = WebhookParser(channel_secret=\"aa737a768bf37430bcc1269310289f9e\")\n",
    "\n",
    "app = FastAPI()\n",
    "\n",
    "from fastapi import FastAPI, Request\n",
    "from typing import Any, Dict, AnyStr, List, Union\n",
    "JSONObject = Dict[AnyStr, Any]\n",
    "JSONArray = List[Any]\n",
    "JSONStructure = Union[JSONArray, JSONObject]\n",
    "\n",
    "@app.post(\"/\")\n",
    "async def handle_request(request: Request, arbitrary_json: JSONStructure = None):\n",
    "    signature = request.headers.get(\"X-Line-Signature\", \"\")\n",
    "    body = (await request.body()).decode(\"utf-8\")\n",
    "    \n",
    "    \n",
    "    events = parser.parse(\n",
    "        body,\n",
    "        signature)\n",
    "\n",
    "    for event in events:\n",
    "        handle_event(event)\n",
    "        \n",
    "    return \"ok\"\n",
    "\n",
    "from linebot.models import TextSendMessage, ImageSendMessage\n",
    "from linebot.models import ImagemapSendMessage, BaseSize, URIImagemapAction, MessageImagemapAction, ImagemapArea\n",
    "\n",
    "ABC = []\n",
    "def handle_event(event):\n",
    "    ABC.append(event)\n",
    "    text = event.message.text\n",
    "    if text.lower() in [\"hi\", \"hello\", \"greeting\"]:\n",
    "        line_api.reply_message(\n",
    "            event.reply_token,\n",
    "            TextMessage(text=f\"你好啊！今天天氣不錯喔\"))\n",
    "        \n",
    "    line_api.push_message(\n",
    "            event.source.user_id,\n",
    "            TextMessage(text=f\"You said: {text}\"))\n",
    "\n",
    "if __name__ == \"__main__\":\n",
    "    import nest_asyncio\n",
    "    nest_asyncio.apply()\n",
    "    import uvicorn\n",
    "    uvicorn.run(app, host=\"0.0.0.0\", port=8080)"
   ]
  },
  {
   "cell_type": "code",
   "execution_count": 25,
   "metadata": {},
   "outputs": [
    {
     "data": {
      "text/plain": [
       "[{\"message\": {\"id\": \"13739690899182\", \"text\": \"hi\", \"type\": \"text\"}, \"mode\": \"active\", \"replyToken\": \"b308ef9833e246c7a74d7c04eb8c7e35\", \"source\": {\"type\": \"user\", \"userId\": \"Uef5a42adc7e249b7ebfaf9162c9fd1bd\"}, \"timestamp\": 1616072664263, \"type\": \"message\"}]"
      ]
     },
     "execution_count": 25,
     "metadata": {},
     "output_type": "execute_result"
    }
   ],
   "source": [
    "ABC"
   ]
  },
  {
   "cell_type": "code",
   "execution_count": 26,
   "metadata": {},
   "outputs": [
    {
     "ename": "LineBotApiError",
     "evalue": "LineBotApiError: status_code=400, request_id=5cc9dbbe-89eb-4b54-a5cf-ed2340625af6, error_response={\"details\": [], \"message\": \"Invalid reply token\"}, headers={'Server': 'openresty', 'Content-Type': 'application/json', 'x-line-request-id': '5cc9dbbe-89eb-4b54-a5cf-ed2340625af6', 'x-content-type-options': 'nosniff', 'x-xss-protection': '1; mode=block', 'x-frame-options': 'DENY', 'Expires': 'Thu, 18 Mar 2021 13:04:42 GMT', 'Cache-Control': 'max-age=0, no-cache, no-store', 'Pragma': 'no-cache', 'Date': 'Thu, 18 Mar 2021 13:04:42 GMT', 'Connection': 'close'}",
     "output_type": "error",
     "traceback": [
      "\u001b[0;31m----------------------------------------------------------------------\u001b[0m",
      "\u001b[0;31mLineBotApiError\u001b[0m                      Traceback (most recent call last)",
      "\u001b[0;32m<ipython-input-26-85f8401966ba>\u001b[0m in \u001b[0;36m<module>\u001b[0;34m\u001b[0m\n\u001b[1;32m      9\u001b[0m line_api.reply_message(\n\u001b[1;32m     10\u001b[0m         \u001b[0mevent\u001b[0m\u001b[0;34m.\u001b[0m\u001b[0mreply_token\u001b[0m\u001b[0;34m,\u001b[0m\u001b[0;34m\u001b[0m\u001b[0;34m\u001b[0m\u001b[0m\n\u001b[0;32m---> 11\u001b[0;31m         TextMessage(text=f\"你好啊！今天天氣不錯喔\"))\n\u001b[0m",
      "\u001b[0;32m~/opt/anaconda3/lib/python3.7/site-packages/linebot/api.py\u001b[0m in \u001b[0;36mreply_message\u001b[0;34m(self, reply_token, messages, notification_disabled, timeout)\u001b[0m\n\u001b[1;32m    107\u001b[0m \u001b[0;34m\u001b[0m\u001b[0m\n\u001b[1;32m    108\u001b[0m         self._post(\n\u001b[0;32m--> 109\u001b[0;31m             \u001b[0;34m'/v2/bot/message/reply'\u001b[0m\u001b[0;34m,\u001b[0m \u001b[0mdata\u001b[0m\u001b[0;34m=\u001b[0m\u001b[0mjson\u001b[0m\u001b[0;34m.\u001b[0m\u001b[0mdumps\u001b[0m\u001b[0;34m(\u001b[0m\u001b[0mdata\u001b[0m\u001b[0;34m)\u001b[0m\u001b[0;34m,\u001b[0m \u001b[0mtimeout\u001b[0m\u001b[0;34m=\u001b[0m\u001b[0mtimeout\u001b[0m\u001b[0;34m\u001b[0m\u001b[0;34m\u001b[0m\u001b[0m\n\u001b[0m\u001b[1;32m    110\u001b[0m         )\n\u001b[1;32m    111\u001b[0m \u001b[0;34m\u001b[0m\u001b[0m\n",
      "\u001b[0;32m~/opt/anaconda3/lib/python3.7/site-packages/linebot/api.py\u001b[0m in \u001b[0;36m_post\u001b[0;34m(self, path, endpoint, data, headers, timeout)\u001b[0m\n\u001b[1;32m   1267\u001b[0m         )\n\u001b[1;32m   1268\u001b[0m \u001b[0;34m\u001b[0m\u001b[0m\n\u001b[0;32m-> 1269\u001b[0;31m         \u001b[0mself\u001b[0m\u001b[0;34m.\u001b[0m\u001b[0m__check_error\u001b[0m\u001b[0;34m(\u001b[0m\u001b[0mresponse\u001b[0m\u001b[0;34m)\u001b[0m\u001b[0;34m\u001b[0m\u001b[0;34m\u001b[0m\u001b[0m\n\u001b[0m\u001b[1;32m   1270\u001b[0m         \u001b[0;32mreturn\u001b[0m \u001b[0mresponse\u001b[0m\u001b[0;34m\u001b[0m\u001b[0;34m\u001b[0m\u001b[0m\n\u001b[1;32m   1271\u001b[0m \u001b[0;34m\u001b[0m\u001b[0m\n",
      "\u001b[0;32m~/opt/anaconda3/lib/python3.7/site-packages/linebot/api.py\u001b[0m in \u001b[0;36m__check_error\u001b[0;34m(response)\u001b[0m\n\u001b[1;32m   1308\u001b[0m                 \u001b[0mrequest_id\u001b[0m\u001b[0;34m=\u001b[0m\u001b[0mresponse\u001b[0m\u001b[0;34m.\u001b[0m\u001b[0mheaders\u001b[0m\u001b[0;34m.\u001b[0m\u001b[0mget\u001b[0m\u001b[0;34m(\u001b[0m\u001b[0;34m'X-Line-Request-Id'\u001b[0m\u001b[0;34m)\u001b[0m\u001b[0;34m,\u001b[0m\u001b[0;34m\u001b[0m\u001b[0;34m\u001b[0m\u001b[0m\n\u001b[1;32m   1309\u001b[0m                 \u001b[0maccepted_request_id\u001b[0m\u001b[0;34m=\u001b[0m\u001b[0mresponse\u001b[0m\u001b[0;34m.\u001b[0m\u001b[0mheaders\u001b[0m\u001b[0;34m.\u001b[0m\u001b[0mget\u001b[0m\u001b[0;34m(\u001b[0m\u001b[0;34m'X-Line-Accepted-Request-Id'\u001b[0m\u001b[0;34m)\u001b[0m\u001b[0;34m,\u001b[0m\u001b[0;34m\u001b[0m\u001b[0;34m\u001b[0m\u001b[0m\n\u001b[0;32m-> 1310\u001b[0;31m                 \u001b[0merror\u001b[0m\u001b[0;34m=\u001b[0m\u001b[0mError\u001b[0m\u001b[0;34m.\u001b[0m\u001b[0mnew_from_json_dict\u001b[0m\u001b[0;34m(\u001b[0m\u001b[0mresponse\u001b[0m\u001b[0;34m.\u001b[0m\u001b[0mjson\u001b[0m\u001b[0;34m)\u001b[0m\u001b[0;34m\u001b[0m\u001b[0;34m\u001b[0m\u001b[0m\n\u001b[0m\u001b[1;32m   1311\u001b[0m             )\n",
      "\u001b[0;31mLineBotApiError\u001b[0m: LineBotApiError: status_code=400, request_id=5cc9dbbe-89eb-4b54-a5cf-ed2340625af6, error_response={\"details\": [], \"message\": \"Invalid reply token\"}, headers={'Server': 'openresty', 'Content-Type': 'application/json', 'x-line-request-id': '5cc9dbbe-89eb-4b54-a5cf-ed2340625af6', 'x-content-type-options': 'nosniff', 'x-xss-protection': '1; mode=block', 'x-frame-options': 'DENY', 'Expires': 'Thu, 18 Mar 2021 13:04:42 GMT', 'Cache-Control': 'max-age=0, no-cache, no-store', 'Pragma': 'no-cache', 'Date': 'Thu, 18 Mar 2021 13:04:42 GMT', 'Connection': 'close'}"
     ]
    }
   ],
   "source": [
    "event = ABC[0]\n",
    "\n",
    "text = event.message.text\n",
    "if text.lower() in [\"hi\", \"hello\", \"greeting\"]:\n",
    "    line_api.reply_message(\n",
    "        event.reply_token,\n",
    "        TextMessage(text=f\"你好啊！今天天氣不錯喔\"))\n",
    "\n",
    "line_api.reply_message(\n",
    "        event.reply_token,\n",
    "        TextMessage(text=f\"你好啊！今天天氣不錯喔\"))"
   ]
  },
  {
   "cell_type": "code",
   "execution_count": 20,
   "metadata": {},
   "outputs": [
    {
     "data": {
      "text/plain": [
       "linebot.models.events.MessageEvent"
      ]
     },
     "execution_count": 20,
     "metadata": {},
     "output_type": "execute_result"
    }
   ],
   "source": [
    "type(event)"
   ]
  },
  {
   "cell_type": "code",
   "execution_count": null,
   "metadata": {},
   "outputs": [],
   "source": []
  },
  {
   "cell_type": "code",
   "execution_count": 3,
   "metadata": {},
   "outputs": [
    {
     "data": {
      "text/plain": [
       "'ABC'"
      ]
     },
     "execution_count": 3,
     "metadata": {},
     "output_type": "execute_result"
    }
   ],
   "source": [
    "\n",
    "\"Abc\".upper()"
   ]
  },
  {
   "cell_type": "code",
   "execution_count": 4,
   "metadata": {},
   "outputs": [
    {
     "ename": "NameError",
     "evalue": "name 'AAA' is not defined",
     "output_type": "error",
     "traceback": [
      "\u001b[0;31m----------------------------------------------------------------------\u001b[0m",
      "\u001b[0;31mNameError\u001b[0m                            Traceback (most recent call last)",
      "\u001b[0;32m<ipython-input-4-1e4f766f6675>\u001b[0m in \u001b[0;36m<module>\u001b[0;34m\u001b[0m\n\u001b[0;32m----> 1\u001b[0;31m \u001b[0mrequest\u001b[0m \u001b[0;34m=\u001b[0m \u001b[0mAAA\u001b[0m\u001b[0;34m[\u001b[0m\u001b[0;36m0\u001b[0m\u001b[0;34m]\u001b[0m\u001b[0;34m\u001b[0m\u001b[0;34m\u001b[0m\u001b[0m\n\u001b[0m",
      "\u001b[0;31mNameError\u001b[0m: name 'AAA' is not defined"
     ]
    }
   ],
   "source": [
    "request = AAA[0]"
   ]
  },
  {
   "cell_type": "code",
   "execution_count": null,
   "metadata": {},
   "outputs": [],
   "source": [
    "await request.body()"
   ]
  },
  {
   "cell_type": "code",
   "execution_count": null,
   "metadata": {},
   "outputs": [],
   "source": [
    "to = \"U0e8f13374ec4f5044f5dbf37a813fad2\""
   ]
  },
  {
   "cell_type": "code",
   "execution_count": null,
   "metadata": {},
   "outputs": [],
   "source": [
    "from linebot.models import TemplateSendMessage, ButtonsTemplate, PostbackTemplateAction, MessageTemplateAction, URITemplateAction\n",
    "\n",
    "button_template_message =ButtonsTemplate(\n",
    "                            thumbnail_image_url=\"https://i.imgur.com/eTldj2E.png?1\",\n",
    "                            title='Menu', \n",
    "                            text='Please select',\n",
    "                            ratio=\"1.51:1\",\n",
    "                            image_size=\"cover\",\n",
    "                            actions=[\n",
    "#                                PostbackTemplateAction 點擊選項後，\n",
    "#                                 除了文字會顯示在聊天室中，\n",
    "#                                 還回傳data中的資料，可\n",
    "#                                 此類透過 Postback event 處理。\n",
    "                                PostbackTemplateAction(\n",
    "                                    label='postback還會回傳data參數', \n",
    "                                    text='postback text',\n",
    "                                    data='action=buy&itemid=1'\n",
    "                                ),\n",
    "                                MessageTemplateAction(\n",
    "                                    label='message會回傳text文字', text='message text'\n",
    "                                ),\n",
    "                                URITemplateAction(\n",
    "                                    label='uri可回傳網址', uri='http://www.xiaosean.website/'\n",
    "                                )\n",
    "                            ]\n",
    "                        )"
   ]
  },
  {
   "cell_type": "code",
   "execution_count": null,
   "metadata": {},
   "outputs": [],
   "source": [
    "line_api.push_message(to, TextSendMessage(text='台科大電腦研習社'))"
   ]
  },
  {
   "cell_type": "code",
   "execution_count": null,
   "metadata": {},
   "outputs": [],
   "source": [
    "\n",
    "line_api.push_message(to, TemplateSendMessage(alt_text=\"Template Example\", template=button_template_message))"
   ]
  },
  {
   "cell_type": "code",
   "execution_count": null,
   "metadata": {},
   "outputs": [],
   "source": [
    "!wget https://raw.githubusercontent.com/xiaosean/Line_chatbot_tutorial/master/push_tutorial.ipynb"
   ]
  },
  {
   "cell_type": "code",
   "execution_count": null,
   "metadata": {},
   "outputs": [],
   "source": []
  }
 ],
 "metadata": {
  "kernelspec": {
   "display_name": "Python 3",
   "language": "python",
   "name": "python3"
  },
  "language_info": {
   "codemirror_mode": {
    "name": "ipython",
    "version": 3
   },
   "file_extension": ".py",
   "mimetype": "text/x-python",
   "name": "python",
   "nbconvert_exporter": "python",
   "pygments_lexer": "ipython3",
   "version": "3.7.4"
  },
  "varInspector": {
   "cols": {
    "lenName": 16,
    "lenType": 16,
    "lenVar": 40
   },
   "kernels_config": {
    "python": {
     "delete_cmd_postfix": "",
     "delete_cmd_prefix": "del ",
     "library": "var_list.py",
     "varRefreshCmd": "print(var_dic_list())"
    },
    "r": {
     "delete_cmd_postfix": ") ",
     "delete_cmd_prefix": "rm(",
     "library": "var_list.r",
     "varRefreshCmd": "cat(var_dic_list()) "
    }
   },
   "types_to_exclude": [
    "module",
    "function",
    "builtin_function_or_method",
    "instance",
    "_Feature"
   ],
   "window_display": false
  }
 },
 "nbformat": 4,
 "nbformat_minor": 2
}
