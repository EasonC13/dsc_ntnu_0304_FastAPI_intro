{
 "cells": [
  {
   "cell_type": "code",
   "execution_count": 3,
   "metadata": {},
   "outputs": [
    {
     "name": "stdout",
     "output_type": "stream",
     "text": [
      "我要睡一秒...起床囉\n"
     ]
    }
   ],
   "source": [
    "import time\n",
    "print(\"我要睡一秒...\", end=\"\")\n",
    "time.sleep(3)\n",
    "print(\"起床囉\")"
   ]
  },
  {
   "cell_type": "code",
   "execution_count": 4,
   "metadata": {},
   "outputs": [
    {
     "name": "stdout",
     "output_type": "stream",
     "text": [
      "我要睡一秒...起床囉\n"
     ]
    }
   ],
   "source": [
    "import asyncio\n",
    "\n",
    "print(\"我要睡一秒...\", end=\"\")\n",
    "await asyncio.sleep(3)\n",
    "print(\"起床囉\")"
   ]
  },
  {
   "cell_type": "code",
   "execution_count": 11,
   "metadata": {},
   "outputs": [
    {
     "data": {
      "text/plain": [
       "60"
      ]
     },
     "execution_count": 11,
     "metadata": {},
     "output_type": "execute_result"
    }
   ],
   "source": [
    "import random\n"
   ]
  },
  {
   "cell_type": "code",
   "execution_count": null,
   "metadata": {},
   "outputs": [],
   "source": []
  },
  {
   "cell_type": "code",
   "execution_count": 14,
   "metadata": {},
   "outputs": [
    {
     "data": {
      "text/plain": [
       "'2021-03-15 20:56:08.623593'"
      ]
     },
     "execution_count": 14,
     "metadata": {},
     "output_type": "execute_result"
    }
   ],
   "source": [
    "import datetime\n"
   ]
  },
  {
   "cell_type": "code",
   "execution_count": null,
   "metadata": {},
   "outputs": [
    {
     "name": "stderr",
     "output_type": "stream",
     "text": [
      "INFO:     Started server process [37771]\n",
      "INFO:     Waiting for application startup.\n",
      "INFO:     Application startup complete.\n",
      "INFO:     Uvicorn running on http://127.0.0.1:8080 (Press CTRL+C to quit)\n"
     ]
    },
    {
     "name": "stdout",
     "output_type": "stream",
     "text": [
      "INFO:     127.0.0.1:55223 - \"GET /docs HTTP/1.1\" 200 OK\n",
      "INFO:     127.0.0.1:55225 - \"GET /docs HTTP/1.1\" 200 OK\n",
      "INFO:     127.0.0.1:55225 - \"GET /openapi.json HTTP/1.1\" 200 OK\n",
      "INFO:     127.0.0.1:55225 - \"GET /docs HTTP/1.1\" 200 OK\n",
      "INFO:     127.0.0.1:55225 - \"GET /docs HTTP/1.1\" 200 OK\n",
      "INFO:     127.0.0.1:55225 - \"GET /openapi.json HTTP/1.1\" 200 OK\n",
      "INFO:     140.122.53.11:0 - \"GET / HTTP/1.1\" 404 Not Found\n",
      "INFO:     140.122.53.11:0 - \"GET /robots.txt HTTP/1.1\" 404 Not Found\n",
      "INFO:     140.122.53.11:0 - \"GET /favicon.ico HTTP/1.1\" 404 Not Found\n",
      "INFO:     140.122.53.11:0 - \"GET /docs HTTP/1.1\" 200 OK\n",
      "INFO:     140.122.53.11:0 - \"GET /openapi.json HTTP/1.1\" 200 OK\n",
      "INFO:     140.122.53.24:0 - \"GET /docs HTTP/1.1\" 200 OK\n",
      "INFO:     140.122.53.24:0 - \"GET /openapi.json HTTP/1.1\" 200 OK\n",
      "INFO:     140.122.53.11:0 - \"GET / HTTP/1.1\" 404 Not Found\n",
      "INFO:     140.122.53.11:0 - \"GET / HTTP/1.1\" 404 Not Found\n",
      "INFO:     140.122.53.11:0 - \"GET /docs HTTP/1.1\" 200 OK\n",
      "INFO:     140.122.53.11:0 - \"GET /openapi.json HTTP/1.1\" 200 OK\n"
     ]
    }
   ],
   "source": [
    "\n",
    "from fastapi import FastAPI\n",
    "\n",
    "import time\n",
    "import asyncio\n",
    "import random\n",
    "import datetime\n",
    "\n",
    "app = FastAPI()\n",
    "\n",
    "unique_int = random.randint(1, 100)\n",
    "\n",
    "@app.get(\"/wait\")\n",
    "def wait_time(second:int = 10):\n",
    "    out = f\"start at {str(datetime.datetime.now())}, \"\n",
    "    time.sleep(second)\n",
    "    out += f\"end at {str(datetime.datetime.now())}\"\n",
    "    return out\n",
    "\n",
    "\n",
    "@app.get(\"/asyncio/wait\")\n",
    "async def async_wait_time(second:int = 10):\n",
    "    out = f\"start at {str(datetime.datetime.now())}, \"\n",
    "    await asyncio.sleep(10)\n",
    "    out += f\"end at {str(datetime.datetime.now())}\"\n",
    "    return out\n",
    "\n",
    "@app.get(\"/multi-worker\")\n",
    "def proof_multi_worker():\n",
    "    return unique_int\n",
    "\n",
    "\n",
    "#回饋問卷連結： https://pyurl.cc/SFv\n",
    "if __name__ == \"__main__\":\n",
    "    import nest_asyncio\n",
    "    import uvicorn\n",
    "    nest_asyncio.apply()\n",
    "    uvicorn.run(app, \n",
    "                host=\"127.0.0.1\",\n",
    "                port= 8080)"
   ]
  },
  {
   "cell_type": "code",
   "execution_count": null,
   "metadata": {},
   "outputs": [],
   "source": []
  }
 ],
 "metadata": {
  "kernelspec": {
   "display_name": "Python 3",
   "language": "python",
   "name": "python3"
  },
  "language_info": {
   "codemirror_mode": {
    "name": "ipython",
    "version": 3
   },
   "file_extension": ".py",
   "mimetype": "text/x-python",
   "name": "python",
   "nbconvert_exporter": "python",
   "pygments_lexer": "ipython3",
   "version": "3.7.4"
  },
  "varInspector": {
   "cols": {
    "lenName": 16,
    "lenType": 16,
    "lenVar": 40
   },
   "kernels_config": {
    "python": {
     "delete_cmd_postfix": "",
     "delete_cmd_prefix": "del ",
     "library": "var_list.py",
     "varRefreshCmd": "print(var_dic_list())"
    },
    "r": {
     "delete_cmd_postfix": ") ",
     "delete_cmd_prefix": "rm(",
     "library": "var_list.r",
     "varRefreshCmd": "cat(var_dic_list()) "
    }
   },
   "types_to_exclude": [
    "module",
    "function",
    "builtin_function_or_method",
    "instance",
    "_Feature"
   ],
   "window_display": false
  }
 },
 "nbformat": 4,
 "nbformat_minor": 2
}
