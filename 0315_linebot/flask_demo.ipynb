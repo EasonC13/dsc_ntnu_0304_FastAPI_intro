{
 "cells": [
  {
   "cell_type": "code",
   "execution_count": null,
   "metadata": {
    "scrolled": true
   },
   "outputs": [
    {
     "name": "stdout",
     "output_type": "stream",
     "text": [
      " * Serving Flask app \"__main__\" (lazy loading)\n",
      " * Environment: production\n",
      "   WARNING: This is a development server. Do not use it in a production deployment.\n",
      "   Use a production WSGI server instead.\n",
      " * Debug mode: off\n"
     ]
    },
    {
     "name": "stderr",
     "output_type": "stream",
     "text": [
      " * Running on http://127.0.0.1:5000/ (Press CTRL+C to quit)\n",
      "127.0.0.1 - - [15/Mar/2021 13:49:57] \"\u001b[37mPOST / HTTP/1.1\u001b[0m\" 200 -\n"
     ]
    },
    {
     "name": "stdout",
     "output_type": "stream",
     "text": [
      "Host: 9bd1f7e17ee4.ngrok.io\r\n",
      "User-Agent: LineBotWebhook/2.0\r\n",
      "Content-Length: 63\r\n",
      "Content-Type: application/json; charset=utf-8\r\n",
      "X-Forwarded-For: 147.92.150.196\r\n",
      "X-Forwarded-Proto: https\r\n",
      "X-Line-Signature: WwP49GE/jEr9y3n3KOwD7w9kysPiZwZe63WgWpBLF50=\r\n",
      "Accept-Encoding: gzip\r\n",
      "\r\n",
      "\n"
     ]
    },
    {
     "name": "stderr",
     "output_type": "stream",
     "text": [
      "127.0.0.1 - - [15/Mar/2021 13:50:05] \"\u001b[37mPOST / HTTP/1.1\u001b[0m\" 200 -\n"
     ]
    },
    {
     "name": "stdout",
     "output_type": "stream",
     "text": [
      "Host: 9bd1f7e17ee4.ngrok.io\r\n",
      "User-Agent: LineBotWebhook/2.0\r\n",
      "Content-Length: 302\r\n",
      "Content-Type: application/json; charset=utf-8\r\n",
      "X-Forwarded-For: 147.92.149.168\r\n",
      "X-Forwarded-Proto: https\r\n",
      "X-Line-Signature: 8G+OtuCH5+7vD2pObs4NCYmnHWHDHsqlYCbXitRzkI8=\r\n",
      "Accept-Encoding: gzip\r\n",
      "\r\n",
      "\n"
     ]
    }
   ],
   "source": [
    "# 載入需要的模組\n",
    "from __future__ import unicode_literals\n",
    "import os\n",
    "from flask import Flask, request, abort\n",
    "from linebot import LineBotApi, WebhookHandler\n",
    "from linebot.exceptions import InvalidSignatureError\n",
    "\n",
    "from linebot.models import MessageEvent, TextMessage, TextSendMessage\n",
    "\n",
    "app = Flask(__name__)\n",
    "\n",
    "# LINE 聊天機器人的基本資料\n",
    "line_bot_api = LineBotApi('A4veVmZxKblHfPlxv+9TTCuoMvgYWJvV8TLvCKf+9thHRZCWLohZHPU8JvPaiuhX2MRRmK7ZW3CAZ7IWLpq2i5yALJNoLQq8talxMiJmn0UERNSc9BRpi6CNQLPuni2HERIuV9ylcmyMgNhGNV7smwdB04t89/1O/w1cDnyilFU=')\n",
    "handler = WebhookHandler('0ba6ed18cdb42f23518beadb42a7b9b8')\n",
    "\n",
    "# 接收 LINE 的資訊\n",
    "@app.route(\"/\", methods=['POST'])\n",
    "def callback():\n",
    "    signature = request.headers['X-Line-Signature']\n",
    "    print(request.headers)\n",
    "\n",
    "    body = request.get_data(as_text=True)\n",
    "    LIST.append(body)\n",
    "    LIST.append(signature)\n",
    "    app.logger.info(\"Request body: \" + body)\n",
    "\n",
    "    try:\n",
    "        handler.handle(body, signature)\n",
    "    except InvalidSignatureError:\n",
    "        abort(400)\n",
    "\n",
    "    return 'OK'\n",
    "\n",
    "LIST = []\n",
    "@handler.add(MessageEvent, message=TextMessage)\n",
    "def echo(event):\n",
    "    \n",
    "    if event.source.user_id != \"Udeadbeefdeadbeefdeadbeefdeadbeef\":\n",
    "        LIST.append(event)\n",
    "        if \"DSC\" in event.message.text:\n",
    "            line_bot_api.reply_message(\n",
    "            event.reply_token,\n",
    "            TextSendMessage(text=f\"DSC NTNU 好棒棒\")\n",
    "        )\n",
    "        else:\n",
    "            line_bot_api.reply_message(\n",
    "                event.reply_token,\n",
    "                TextSendMessage(text=f\"收到你說{event.message.text}\")\n",
    "            )\n",
    "\n",
    "if __name__ == \"__main__\":\n",
    "    app.run()"
   ]
  },
  {
   "cell_type": "code",
   "execution_count": null,
   "metadata": {},
   "outputs": [],
   "source": [
    "LIST[1]"
   ]
  },
  {
   "cell_type": "code",
   "execution_count": null,
   "metadata": {},
   "outputs": [],
   "source": []
  }
 ],
 "metadata": {
  "kernelspec": {
   "display_name": "Python 3",
   "language": "python",
   "name": "python3"
  },
  "language_info": {
   "codemirror_mode": {
    "name": "ipython",
    "version": 3
   },
   "file_extension": ".py",
   "mimetype": "text/x-python",
   "name": "python",
   "nbconvert_exporter": "python",
   "pygments_lexer": "ipython3",
   "version": "3.7.4"
  },
  "varInspector": {
   "cols": {
    "lenName": 16,
    "lenType": 16,
    "lenVar": 40
   },
   "kernels_config": {
    "python": {
     "delete_cmd_postfix": "",
     "delete_cmd_prefix": "del ",
     "library": "var_list.py",
     "varRefreshCmd": "print(var_dic_list())"
    },
    "r": {
     "delete_cmd_postfix": ") ",
     "delete_cmd_prefix": "rm(",
     "library": "var_list.r",
     "varRefreshCmd": "cat(var_dic_list()) "
    }
   },
   "types_to_exclude": [
    "module",
    "function",
    "builtin_function_or_method",
    "instance",
    "_Feature"
   ],
   "window_display": false
  }
 },
 "nbformat": 4,
 "nbformat_minor": 2
}
