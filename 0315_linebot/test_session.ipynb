{
 "cells": [
  {
   "cell_type": "code",
   "execution_count": 1,
   "metadata": {},
   "outputs": [
    {
     "name": "stderr",
     "output_type": "stream",
     "text": [
      "/Users/eason/opt/anaconda3/lib/python3.7/site-packages/jose/backends/cryptography_backend.py:18: CryptographyDeprecationWarning: int_from_bytes is deprecated, use int.from_bytes instead\n",
      "  from cryptography.utils import int_from_bytes, int_to_bytes\n"
     ]
    }
   ],
   "source": [
    "from fastapi import FastAPI, Form, HTTPException, Depends\n",
    "from fastapi.security import APIKeyCookie\n",
    "from starlette.responses import Response, HTMLResponse\n",
    "from starlette import status\n",
    "from jose import jwt\n",
    "\n",
    "\n",
    "app = FastAPI()\n",
    "\n",
    "cookie_sec = APIKeyCookie(name=\"session\")\n",
    "\n",
    "secret_key = \"someactualsecret\"\n",
    "\n",
    "users = {\"dmontagu\": {\"password\": \"secret1\"}, \"tiangolo\": {\"password\": \"secret2\"}}\n",
    "\n",
    "\n",
    "def get_current_user(session: str = Depends(cookie_sec)):\n",
    "    try:\n",
    "        payload = jwt.decode(session, secret_key)\n",
    "        user = users[payload[\"sub\"]]\n",
    "        return user\n",
    "    except Exception:\n",
    "        raise HTTPException(\n",
    "            status_code=status.HTTP_403_FORBIDDEN, detail=\"Invalid authentication\"\n",
    "        )\n",
    "\n",
    "\n",
    "@app.get(\"/login\")\n",
    "def login_page():\n",
    "    return HTMLResponse(\n",
    "        \"\"\"\n",
    "        <form action=\"/login\" method=\"post\">\n",
    "        Username: <input type=\"text\" name=\"username\" required>\n",
    "        <br>\n",
    "        Password: <input type=\"password\" name=\"password\" required>\n",
    "        <input type=\"submit\" value=\"Login\">\n",
    "        </form>\n",
    "        \"\"\"\n",
    "    )\n",
    "\n",
    "\n",
    "@app.post(\"/login\")\n",
    "def login(response: Response, username: str = Form(...), password: str = Form(...)):\n",
    "    if username not in users:\n",
    "        raise HTTPException(\n",
    "            status_code=status.HTTP_403_FORBIDDEN, detail=\"Invalid user or password\"\n",
    "        )\n",
    "    db_password = users[username][\"password\"]\n",
    "    if not password == db_password:\n",
    "        raise HTTPException(\n",
    "            status_code=status.HTTP_403_FORBIDDEN, detail=\"Invalid user or password\"\n",
    "        )\n",
    "    token = jwt.encode({\"sub\": username}, secret_key)\n",
    "    response.set_cookie(\"session\", token)\n",
    "    return {\"ok\": True}\n",
    "\n",
    "\n",
    "@app.get(\"/private\")\n",
    "def read_private(username: str = Depends(get_current_user)):\n",
    "    return {\"username\": username, \"private\": \"get some private data\"}"
   ]
  },
  {
   "cell_type": "code",
   "execution_count": null,
   "metadata": {},
   "outputs": [
    {
     "name": "stderr",
     "output_type": "stream",
     "text": [
      "INFO:     Started server process [15339]\n",
      "INFO:     Waiting for application startup.\n",
      "INFO:     Application startup complete.\n",
      "INFO:     Uvicorn running on http://0.0.0.0:8787 (Press CTRL+C to quit)\n"
     ]
    },
    {
     "name": "stdout",
     "output_type": "stream",
     "text": [
      "INFO:     127.0.0.1:59948 - \"GET /private HTTP/1.1\" 403 Forbidden\n",
      "INFO:     127.0.0.1:59949 - \"POST /login HTTP/1.1\" 200 OK\n",
      "INFO:     127.0.0.1:60034 - \"GET /private HTTP/1.1\" 200 OK\n"
     ]
    }
   ],
   "source": [
    "if __name__ == \"__main__\":\n",
    "    import nest_asyncio\n",
    "    import uvicorn\n",
    "    nest_asyncio.apply()\n",
    "    uvicorn.run(app, \n",
    "                host=\"0.0.0.0\",\n",
    "                port= 8787)"
   ]
  },
  {
   "cell_type": "code",
   "execution_count": null,
   "metadata": {},
   "outputs": [],
   "source": []
  }
 ],
 "metadata": {
  "kernelspec": {
   "display_name": "Python 3",
   "language": "python",
   "name": "python3"
  },
  "language_info": {
   "codemirror_mode": {
    "name": "ipython",
    "version": 3
   },
   "file_extension": ".py",
   "mimetype": "text/x-python",
   "name": "python",
   "nbconvert_exporter": "python",
   "pygments_lexer": "ipython3",
   "version": "3.7.4"
  },
  "varInspector": {
   "cols": {
    "lenName": 16,
    "lenType": 16,
    "lenVar": 40
   },
   "kernels_config": {
    "python": {
     "delete_cmd_postfix": "",
     "delete_cmd_prefix": "del ",
     "library": "var_list.py",
     "varRefreshCmd": "print(var_dic_list())"
    },
    "r": {
     "delete_cmd_postfix": ") ",
     "delete_cmd_prefix": "rm(",
     "library": "var_list.r",
     "varRefreshCmd": "cat(var_dic_list()) "
    }
   },
   "types_to_exclude": [
    "module",
    "function",
    "builtin_function_or_method",
    "instance",
    "_Feature"
   ],
   "window_display": false
  }
 },
 "nbformat": 4,
 "nbformat_minor": 2
}
