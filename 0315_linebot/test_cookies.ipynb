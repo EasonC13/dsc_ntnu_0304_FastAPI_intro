{
 "cells": [
  {
   "cell_type": "code",
   "execution_count": 1,
   "metadata": {},
   "outputs": [
    {
     "name": "stderr",
     "output_type": "stream",
     "text": [
      "INFO:     Started server process [1815]\n",
      "INFO:     Waiting for application startup.\n",
      "INFO:     Application startup complete.\n",
      "INFO:     Uvicorn running on http://127.0.0.1:8080 (Press CTRL+C to quit)\n",
      "INFO:     Shutting down\n",
      "INFO:     Waiting for application shutdown.\n",
      "INFO:     Application shutdown complete.\n",
      "INFO:     Finished server process [1815]\n"
     ]
    }
   ],
   "source": [
    "\n",
    "from fastapi import FastAPI, Request\n",
    "\n",
    "import time\n",
    "import asyncio\n",
    "import random\n",
    "import datetime\n",
    "\n",
    "app = FastAPI()\n",
    "\n",
    "unique_int = random.randint(1, 100)\n",
    "\n",
    "@app.get(\"/\")\n",
    "def get_cookies(request: Request):\n",
    "    print(request.cookies)\n",
    "    return request.cookies\n",
    "\n",
    "@app.post(\"/\")\n",
    "def post_cookies(request: Request):\n",
    "    print(request.cookies)\n",
    "    return request.cookies\n",
    "\n",
    "\n",
    "#回饋問卷連結： https://pyurl.cc/SFv\n",
    "if __name__ == \"__main__\":\n",
    "    import nest_asyncio\n",
    "    import uvicorn\n",
    "    nest_asyncio.apply()\n",
    "    uvicorn.run(app, \n",
    "                host=\"127.0.0.1\",\n",
    "                port= 8080)"
   ]
  },
  {
   "cell_type": "code",
   "execution_count": null,
   "metadata": {},
   "outputs": [],
   "source": []
  }
 ],
 "metadata": {
  "kernelspec": {
   "display_name": "Python 3",
   "language": "python",
   "name": "python3"
  },
  "language_info": {
   "codemirror_mode": {
    "name": "ipython",
    "version": 3
   },
   "file_extension": ".py",
   "mimetype": "text/x-python",
   "name": "python",
   "nbconvert_exporter": "python",
   "pygments_lexer": "ipython3",
   "version": "3.7.4"
  },
  "varInspector": {
   "cols": {
    "lenName": 16,
    "lenType": 16,
    "lenVar": 40
   },
   "kernels_config": {
    "python": {
     "delete_cmd_postfix": "",
     "delete_cmd_prefix": "del ",
     "library": "var_list.py",
     "varRefreshCmd": "print(var_dic_list())"
    },
    "r": {
     "delete_cmd_postfix": ") ",
     "delete_cmd_prefix": "rm(",
     "library": "var_list.r",
     "varRefreshCmd": "cat(var_dic_list()) "
    }
   },
   "types_to_exclude": [
    "module",
    "function",
    "builtin_function_or_method",
    "instance",
    "_Feature"
   ],
   "window_display": false
  }
 },
 "nbformat": 4,
 "nbformat_minor": 2
}
