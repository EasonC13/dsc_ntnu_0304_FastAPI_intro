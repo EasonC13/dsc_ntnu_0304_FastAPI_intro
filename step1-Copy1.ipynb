{
 "cells": [
  {
   "cell_type": "code",
   "execution_count": null,
   "metadata": {},
   "outputs": [],
   "source": []
  },
  {
   "cell_type": "code",
   "execution_count": null,
   "metadata": {},
   "outputs": [
    {
     "name": "stderr",
     "output_type": "stream",
     "text": [
      "INFO:     Started server process [9699]\n",
      "INFO:     Waiting for application startup.\n",
      "INFO:     Application startup complete.\n",
      "INFO:     Uvicorn running on http://0.0.0.0:8080 (Press CTRL+C to quit)\n"
     ]
    },
    {
     "name": "stdout",
     "output_type": "stream",
     "text": [
      "INFO:     127.0.0.1:49878 - \"GET /docs HTTP/1.1\" 200 OK\n",
      "INFO:     127.0.0.1:49879 - \"GET /docs HTTP/1.1\" 200 OK\n",
      "INFO:     127.0.0.1:49879 - \"GET /openapi.json HTTP/1.1\" 200 OK\n",
      "INFO:     127.0.0.1:49883 - \"POST /add-data HTTP/1.1\" 200 OK\n",
      "INFO:     127.0.0.1:49883 - \"GET /database HTTP/1.1\" 200 OK\n",
      "INFO:     127.0.0.1:49887 - \"DELETE /delete-by-key/string HTTP/1.1\" 200 OK\n",
      "INFO:     127.0.0.1:49887 - \"DELETE /delete-by-key/string HTTP/1.1\" 200 OK\n",
      "INFO:     127.0.0.1:56225 - \"GET / HTTP/1.1\" 404 Not Found\n"
     ]
    }
   ],
   "source": [
    "\n",
    "from fastapi import FastAPI\n",
    "from pydantic import BaseModel\n",
    "from typing import Optional\n",
    "\n",
    "app = FastAPI()\n",
    "\n",
    "class data(BaseModel):\n",
    "    key: str\n",
    "    value: str\n",
    "\n",
    "        \n",
    "database = {}\n",
    "@app.post(\"/add-data\")\n",
    "def add_data(data: data):\n",
    "    if data.key in database:\n",
    "        return {\"status\": 404, \"message\": \"Already have one.\"}\n",
    "    else:\n",
    "        database[data.key] = data.value\n",
    "        return {\"status\": 200,\n",
    "                \"message\": f\"OK, receive {data}\"}\n",
    "\n",
    "\n",
    "@app.get(\"/database\")\n",
    "def get_database():\n",
    "    return {\"status\": 200,\n",
    "            \"database\": database}\n",
    "\n",
    "@app.put(\"/update-database\")\n",
    "def update_database(data: data):\n",
    "    if data.key not in database:\n",
    "        return {\"status\": 404, \"message\": \"Not Found\"}\n",
    "    database[data.key] = data.value\n",
    "    return {\"status\": 200,\n",
    "            \"message\": f\"Successfully update {data}\"}\n",
    "\n",
    "@app.delete(\"/delete-by-key/{key}\")\n",
    "def delete(key):\n",
    "    if key not in database:\n",
    "        return {\"status\": 404, \"message\": \"Not Found\"}\n",
    "    else:\n",
    "        del database[key]\n",
    "        return {\"status\": 200,\n",
    "                \"message\": f\"Successfully delete {key}\"}\n",
    "\n",
    "#回饋問卷連結： https://pyurl.cc/SFv\n",
    "import nest_asyncio\n",
    "import uvicorn\n",
    "nest_asyncio.apply()\n",
    "uvicorn.run(app, \n",
    "            host=\"0.0.0.0\",\n",
    "            port= 8080)"
   ]
  },
  {
   "cell_type": "code",
   "execution_count": null,
   "metadata": {},
   "outputs": [],
   "source": []
  }
 ],
 "metadata": {
  "kernelspec": {
   "display_name": "Python 3",
   "language": "python",
   "name": "python3"
  },
  "language_info": {
   "codemirror_mode": {
    "name": "ipython",
    "version": 3
   },
   "file_extension": ".py",
   "mimetype": "text/x-python",
   "name": "python",
   "nbconvert_exporter": "python",
   "pygments_lexer": "ipython3",
   "version": "3.7.4"
  },
  "varInspector": {
   "cols": {
    "lenName": 16,
    "lenType": 16,
    "lenVar": 40
   },
   "kernels_config": {
    "python": {
     "delete_cmd_postfix": "",
     "delete_cmd_prefix": "del ",
     "library": "var_list.py",
     "varRefreshCmd": "print(var_dic_list())"
    },
    "r": {
     "delete_cmd_postfix": ") ",
     "delete_cmd_prefix": "rm(",
     "library": "var_list.r",
     "varRefreshCmd": "cat(var_dic_list()) "
    }
   },
   "types_to_exclude": [
    "module",
    "function",
    "builtin_function_or_method",
    "instance",
    "_Feature"
   ],
   "window_display": false
  }
 },
 "nbformat": 4,
 "nbformat_minor": 2
}
